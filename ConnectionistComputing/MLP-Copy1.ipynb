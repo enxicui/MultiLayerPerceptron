{
 "cells": [
  {
   "cell_type": "markdown",
   "metadata": {},
   "source": [
    "## Connectionist Computing Assignmnet\n",
    "## BingBing Li"
   ]
  },
  {
   "cell_type": "code",
   "execution_count": 1,
   "metadata": {
    "scrolled": true
   },
   "outputs": [],
   "source": [
    "import numpy as np\n",
    "import pandas as pd\n",
    "import random"
   ]
  },
  {
   "cell_type": "code",
   "execution_count": 2,
   "metadata": {},
   "outputs": [],
   "source": [
    "# -*- coding: utf-8 -*-\n",
    "\"\"\"\n",
    "Created on Fri May 15 00:30:16 2020\n",
    "\n",
    "@author: dell\n",
    "\"\"\"\n",
    "\n",
    "# -*- coding: utf-8 -*-\n",
    "\"\"\"\n",
    "Created on Fri May 15 00:25:18 2020\n",
    "\n",
    "@author: dell\n",
    "\"\"\"\n",
    "\n",
    "import numpy as np\n",
    "import pandas as pd\n",
    "import random\n",
    "\n",
    "class MLP(object):\n",
    "    def __init__(self, NI, NH, NO):   #     initialise the attributes\n",
    "        self.no_in = NI               #     NI number of input\n",
    "        self.no_hidden = NH           #     NH number of Hiddlen units\n",
    "        self.no_out = NO              #     NO number of output\n",
    "        self.W1 = np.array        #     An matrix containing the weights in the lower layer\n",
    "        self.W2 = np.array        #     An matrix containing the weights in the upper layer\n",
    "        self.dW1 = np.array       #     An matrix containing the weights change to be applied on w1 in the lower layer\n",
    "        self.dW2 = np.array       #     An matrix containing the weights change to be applied on w2 in the upper layer\n",
    "        self.Z1 = np.array        #     An array containing the activations in the lower layer\n",
    "        self.Z2 = np.array        #     An array containing the activations in the upper layer\n",
    "        self.bias1 = np.array       #     Bias for the lower layer\n",
    "        self.bias2 = np.array       #     Bias for the upper layer\n",
    "        self.dBias1 = np.array    #     An matrix containing the bias change to be applied on w1 in the upper layer\n",
    "        self.dBias2 = np.array    #     An matrix containing the bias change to be applied on w2 in the upper layer\n",
    "        self.H = np.array  #  array where the values of the hidden neurons are stored – need these saved to compute dW2)\n",
    "        self.O = np.array  #  array where the outputs are stored   \n",
    "        \n",
    "        \n",
    "    #  Initialize matrix W1 and W2 randomly from Normal distribution having mean 0 and variance 1     \n",
    "    def randomise(self): \n",
    "        self.W1 = np.array((np.random.uniform(low=0, high=1, size=(self.no_in, self.no_hidden))).tolist())\n",
    "        self.W2 = np.array((np.random.uniform(low=0, high=1, size=(self.no_hidden, self.no_out))).tolist())\n",
    "        \n",
    "\n",
    "        # set dW1 and dW2 to all zeroes.\n",
    "        self.dW1 = np.dot(self.W1, 0)\n",
    "        self.dW2 = np.dot(self.W2, 0)\n",
    "        \n",
    "        \n",
    "    def sigmoid(self, sigInput):\n",
    "    # Define a logistic sigmoid function which takes input sigInput and returns 1/(1 + math.exp(-sigInput)).\n",
    "        return 1 / (1 + np.exp(-sigInput))\n",
    "    def derivative_sigmoid(self, sigInput):\n",
    "        # return sigmoid(sigInput) * (1 - sigmoid(sigInput))\n",
    "        return np.exp(-sigInput) / (1 + np.exp(-sigInput)) ** 2\n",
    "    \n",
    "    # Define a logistic tanH function which takes input sigInput and returns 2 / (1 + np.exp(-2*tangInput))-1.\n",
    "    def tanh(self, tangInput):\n",
    "        return (np.exp(tangInput)-np.exp(-tangInput))/(np.exp(tangInput)+np.exp(-tangInput))\n",
    "    def derivative_tanH(self, tangInput):\n",
    "        return 1-self.tanh(tangInput) ** 2\n",
    "        \n",
    "        \n",
    "        \n",
    "      # Forward pass. Input vector I is processed to produce an output, which is stored in O[].\n",
    "    def forward(self, I, activation):\n",
    "    # If we use sigmoid activation function, take the inputs, and put them through the formula to get lower neuron's output\n",
    "        if activation == 'sigmoid':\n",
    "            # Array containing the activations in the lower layer\n",
    "            self.Z1 = np.dot(I, self.W1)\n",
    "            # Array where the values of the hidden neurons are stored \n",
    "            self.H = self.sigmoid(self.Z1)\n",
    "            \n",
    "            # Take lower layer's outputs, and put them through the formula to get upper neuron's output\n",
    "            self.Z2 = np.dot(self.H, self.W2)\n",
    "            # Array where the outputs are stored\n",
    "            self.O = self.sigmoid(self.Z2)\n",
    "    \n",
    "        elif activation == 'tanh' :\n",
    "            self.Z1 = np.dot(I, self.W1) \n",
    "            # Array where the values of the hidden neurons are stored \n",
    "            self.H = self.tanh(self.Z1)\n",
    "            # If we use tanh activation function,, take lower layer's outputs, and put them through the formula to get upper neuron's output\n",
    "            self.Z2 = np.dot(self.H, self.W2)\n",
    "            # Array where the outputs are stored       \n",
    "            self.O = self.tanh(self.Z2)\n",
    "#             print(\"tanhforward is\" + self.O)\n",
    "        return self.O\n",
    "    \n",
    "    \n",
    "    #  backward pass \n",
    "    #  target is the output that we want, self.O is the output predicted by our network\n",
    "    def backward(self, I, target, activation):\n",
    "        output_error = np.subtract(target, self.O) #difference (error) in output \n",
    "        if activation == 'sigmoid' : \n",
    "            activation_O=self.derivative_sigmoid(self.Z2)\n",
    "            activation_H=self.derivative_sigmoid(self.Z1)\n",
    "        elif activation == 'tanh' :\n",
    "            activation_O=self.derivative_tanH(self.Z2)\n",
    "            activation_H=self.derivative_tanH(self.Z1)\n",
    "        dw2_a = np.multiply(output_error, activation_O)\n",
    "        self.dW2 = np.dot(self.H.T, dw2_a)\n",
    "        dw1_a=np.multiply(np.dot(dw2_a, self.W2.T), activation_H)\n",
    "        self.dW1=np.dot(I.T,dw1_a)\n",
    "        return np.mean(np.abs(output_error))\n",
    "\n",
    "\n",
    "    # Adjust the weights\n",
    "    def updateWeights(self, learningRate):\n",
    "        self.W1 = np.add(self.W1,learningRate * self.dW1)\n",
    "        self.W2 = np.add(self.W2,learningRate * self.dW2)\n",
    "        self.dW1 = np.array\n",
    "        self.dW2 = np.array\n",
    "\n",
    "\n",
    "\n"
   ]
  },
  {
   "cell_type": "code",
   "execution_count": 3,
   "metadata": {},
   "outputs": [
    {
     "name": "stdout",
     "output_type": "stream",
     "text": [
      "[0.5000301241417046, 0.5000257962180499, 0.5000218483916486, 0.5000182652345351, 0.5000277400585359, 0.5000834280234948, 0.8432198111278989, 0.6176600547347811, 0.5016162553659848, 0.5000844547092941, 0.5000312279781671, 0.5000221563744891, 0.9834361230417975, 0.9795257182911123, 0.9725544467946178, 0.9539990702695194, 0.8474482253148723, 0.5017664995645079, 0.9955187768061668, 0.994835378478497, 0.9936659003836418, 0.990808989894758, 0.9833188307874235, 0.9725072594000221, 0.998549007792356, 0.9983293137328064, 0.9979629680768267, 0.9971438254342546, 0.9955297090628872, 0.9936726970229244]\n"
     ]
    }
   ],
   "source": [
    "#XOR Test\n",
    "\n",
    "log = open(\"xortest.txt\", \"w\")\n",
    "print(\"XOR TEST\\n\", file = log)\n",
    "\n",
    "\n",
    "def XOR(max_epochs, learning_rate):\n",
    "    np.random.seed(1)\n",
    "    inputs = np.array([[0, 0], [0, 1], [1, 0], [1, 1]])\n",
    "    outputs = np.array([[0], [1], [1], [0]])\n",
    "\n",
    "    NI = 2\n",
    "    NH = 4\n",
    "    NO = 1\n",
    "    NN = MLP(NI, NH, NO)\n",
    "\n",
    "    NN.randomise()\n",
    "    print('\\nMax Epoch:\\n' + str(max_epochs), file=log)\n",
    "    print('\\nLearning Rate:\\n' + str(learning_rate), file=log)\n",
    "    print('\\nBefore Training:\\n', file=log)\n",
    "    for i in range(len(inputs)):\n",
    "        NN.forward(inputs[i],'sigmoid')\n",
    "        print('Target:\\t {}  Output:\\t {}'.format(str(outputs[i]), str(NN.O)), file=log)\n",
    "    print('\\nTraining:\\n', file=log)\n",
    "\n",
    "    for i in range(0, max_epochs):\n",
    "        NN.forward(inputs,'sigmoid')\n",
    "        error = NN.backward(inputs, outputs,'sigmoid')\n",
    "        NN.updateWeights(learning_rate)\n",
    "\n",
    "        if (i + 1) % (max_epochs / 20) == 0:\n",
    "            print(' Error at Epoch:\\t' + str(i + 1) + '\\t\\t  is \\t\\t' + str(error), file=log)\n",
    "\n",
    "    print('\\n After Training :\\n', file=log)\n",
    "    \n",
    "    accuracy = float(0)\n",
    "    for i in range(len(inputs)):\n",
    "        NN.forward(inputs[i],'sigmoid')\n",
    "        print('Target:\\t {}  Output:\\t {}'.format(str(outputs[i]), str(NN.O)), file=log)\n",
    "        if(outputs[i][0]==0):\n",
    "            accuracy+=1-NN.O[0]\n",
    "        elif(outputs[i][0]==1):\n",
    "            accuracy+=NN.O[0] \n",
    "    print('\\nAccuracy: {}'.format(accuracy/4),file=log)\n",
    "    accuracylist.append(accuracy/4)\n",
    "    \n",
    "\n",
    "\n",
    "Epoch=[100, 1000, 10000, 100000, 1000000]\n",
    "learn_rate=[1.0,0.75,0.5,0.25,0.1,0.05]\n",
    "accuracylist=[]\n",
    "for i in range(len(Epoch)):\n",
    "    for j in range(len(learn_rate)):\n",
    "        print('----------------------------------------------------------------------\\n', file=log)\n",
    "        XOR(Epoch[i],learn_rate[j])\n",
    "        print('\\n-------------------------------------------------------------------\\n', file=log)\n",
    "print(accuracylist)"
   ]
  },
  {
   "cell_type": "code",
   "execution_count": 4,
   "metadata": {},
   "outputs": [],
   "source": [
    "import matplotlib.pyplot as plt"
   ]
  },
  {
   "cell_type": "code",
   "execution_count": 15,
   "metadata": {},
   "outputs": [
    {
     "data": {
      "text/plain": [
       "30"
      ]
     },
     "execution_count": 15,
     "metadata": {},
     "output_type": "execute_result"
    }
   ],
   "source": [
    "len(accuracylist)"
   ]
  },
  {
   "cell_type": "code",
   "execution_count": 18,
   "metadata": {},
   "outputs": [
    {
     "data": {
      "image/png": "[encoded data removed]",
      "text/plain": [
       "<Figure size 432x288 with 1 Axes>"
      ]
     },
     "metadata": {
      "needs_background": "light"
     },
     "output_type": "display_data"
    }
   ],
   "source": [
    "plt.plot(learn_rate,accuracylist[24:30])\n",
    "plt.xlabel('learn Rate')\n",
    "plt.ylabel('Accuracy')\n",
    "plt.show()\n",
    "# when epoch is 1000000"
   ]
  },
  {
   "cell_type": "code",
   "execution_count": 22,
   "metadata": {},
   "outputs": [
    {
     "data": {
      "text/plain": [
       "[100, 1000, 10000, 100000, 1000000]"
      ]
     },
     "execution_count": 22,
     "metadata": {},
     "output_type": "execute_result"
    }
   ],
   "source": [
    "Epoch"
   ]
  },
  {
   "cell_type": "code",
   "execution_count": 3,
   "metadata": {},
   "outputs": [
    {
     "name": "stdout",
     "output_type": "stream",
     "text": [
      "[0.5000301241417046, 0.5000257962180499, 0.5000218483916486, 0.5000182652345351, 0.5000277400585359, 0.5000834280234948, 0.8432198111278989, 0.6176600547347811, 0.5016162553659848, 0.5000844547092941, 0.5000312279781671, 0.5000221563744891, 0.9834361230417975, 0.9795257182911123, 0.9725544467946178, 0.9539990702695194, 0.8474482253148723, 0.5017664995645079, 0.9955187768061668, 0.994835378478497, 0.9936659003836418, 0.990808989894758, 0.9833188307874235, 0.9725072594000221, 0.998549007792356, 0.9983293137328064, 0.9979629680768267, 0.9971438254342546, 0.9955297090628872, 0.9936726970229244]\n"
     ]
    }
   ],
   "source": [
    "#XOR Test\n",
    "\n",
    "log = open(\"xortest.txt\", \"w\")\n",
    "print(\"XOR TEST\\n\", file = log)\n",
    "\n",
    "\n",
    "def XOR(max_epochs, learning_rate):\n",
    "    np.random.seed(1)\n",
    "    inputs = np.array([[0, 0], [0, 1], [1, 0], [1, 1]])\n",
    "    outputs = np.array([[0], [1], [1], [0]])\n",
    "\n",
    "    NI = 2\n",
    "    NH = 4\n",
    "    NO = 1\n",
    "    NN = MLP(NI, NH, NO)\n",
    "\n",
    "    NN.randomise()\n",
    "    print('\\nMax Epoch:\\n' + str(max_epochs), file=log)\n",
    "    print('\\nLearning Rate:\\n' + str(learning_rate), file=log)\n",
    "    print('\\nBefore Training:\\n', file=log)\n",
    "    for i in range(len(inputs)):\n",
    "        NN.forward(inputs[i],'sigmoid')\n",
    "        print('Target:\\t {}  Output:\\t {}'.format(str(outputs[i]), str(NN.O)), file=log)\n",
    "    print('\\nTraining:\\n', file=log)\n",
    "\n",
    "    for i in range(0, max_epochs):\n",
    "        NN.forward(inputs,'sigmoid')\n",
    "        error = NN.backward(inputs, outputs,'sigmoid')\n",
    "        NN.updateWeights(learning_rate)\n",
    "\n",
    "        if (i + 1) % (max_epochs / 20) == 0:\n",
    "            print(' Error at Epoch:\\t' + str(i + 1) + '\\t\\t  is \\t\\t' + str(error), file=log)\n",
    "\n",
    "    print('\\n After Training :\\n', file=log)\n",
    "    \n",
    "    accuracy = float(0)\n",
    "    for i in range(len(inputs)):\n",
    "        NN.forward(inputs[i],'sigmoid')\n",
    "        print('Target:\\t {}  Output:\\t {}'.format(str(outputs[i]), str(NN.O)), file=log)\n",
    "        if(outputs[i][0]==0):\n",
    "            accuracy+=1-NN.O[0]\n",
    "        elif(outputs[i][0]==1):\n",
    "            accuracy+=NN.O[0] \n",
    "    print('\\nAccuracy: {}'.format(accuracy/4),file=log)\n",
    "    accuracylist.append(accuracy/4)\n",
    "    \n",
    "\n",
    "\n",
    "Epoch=[100, 1000, 10000, 100000, 1000000]\n",
    "learn_rate=[1.0,0.75,0.5,0.25,0.1,0.05]\n",
    "accuracylist=[]\n",
    "for i in range(len(Epoch)):\n",
    "    for j in range(len(learn_rate)):\n",
    "        print('----------------------------------------------------------------------\\n', file=log)\n",
    "        XOR(Epoch[i],learn_rate[j])\n",
    "        print('\\n-------------------------------------------------------------------\\n', file=log)\n",
    "print(accuracylist)"
   ]
  },
  {
   "cell_type": "code",
   "execution_count": 42,
   "metadata": {},
   "outputs": [
    {
     "data": {
      "image/png": "[encoded data removed]",
      "text/plain": [
       "<Figure size 1440x720 with 1 Axes>"
      ]
     },
     "metadata": {
      "needs_background": "light"
     },
     "output_type": "display_data"
    }
   ],
   "source": [
    "import matplotlib. pyplot as plt\n",
    "plt.figure(figsize=(20,10))\n",
    "plt.plot(learn_rate,accuracylist[24:30])\n",
    "\n",
    "#when leaning rate is 1\n",
    "plt.xlabel('Learning Rate')\n",
    "plt.ylabel('Accuracy')\n",
    "plt.show()"
   ]
  },
  {
   "cell_type": "code",
   "execution_count": 36,
   "metadata": {},
   "outputs": [
    {
     "data": {
      "image/png": "[encoded data removed]",
      "text/plain": [
       "<Figure size 1440x720 with 1 Axes>"
      ]
     },
     "metadata": {
      "needs_background": "light"
     },
     "output_type": "display_data"
    }
   ],
   "source": [
    "newlist =[0.5,0.8432198111278989,0.9834361230417975,0.9955187768061668,0.998549007792356]\n",
    "plt.figure(figsize=(20,10))\n",
    "plt.plot(Epoch,newlist)\n",
    "\n",
    "#when leaning rate is 1\n",
    "plt.xlabel('Max Epochs')\n",
    "plt.ylabel('Accuracy')\n",
    "plt.show()"
   ]
  },
  {
   "cell_type": "code",
   "execution_count": null,
   "metadata": {},
   "outputs": [],
   "source": []
  }
 ],
 "metadata": {
  "kernelspec": {
   "display_name": "Python 3",
   "language": "python",
   "name": "python3"
  },
  "language_info": {
   "codemirror_mode": {
    "name": "ipython",
    "version": 3
   },
   "file_extension": ".py",
   "mimetype": "text/x-python",
   "name": "python",
   "nbconvert_exporter": "python",
   "pygments_lexer": "ipython3",
   "version": "3.7.0"
  }
 },
 "nbformat": 4,
 "nbformat_minor": 2
}
